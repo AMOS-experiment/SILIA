{
 "cells": [
  {
   "cell_type": "code",
   "execution_count": null,
   "metadata": {},
   "outputs": [],
   "source": [
    "import numpy as np\n",
    "import matplotlib.pyplot as plt\n",
    "from scipy import stats\n",
    "import timeit\n",
    "import SILIA\n",
    "from IPython.display import clear_output\n",
    "import json"
   ]
  },
  {
   "cell_type": "markdown",
   "metadata": {},
   "source": [
    "Benchmarking the time it takes for SILIA to run for variable inputs. Note: these results will be highly variable depending on the hardware this is being run on. "
   ]
  },
  {
   "cell_type": "markdown",
   "metadata": {},
   "source": [
    "## Runtime vs Input Samples"
   ]
  },
  {
   "cell_type": "markdown",
   "metadata": {},
   "source": [
    "Finding the runtimes with refernce fitting and interpolation and without."
   ]
  },
  {
   "cell_type": "code",
   "execution_count": null,
   "metadata": {
    "scrolled": true
   },
   "outputs": [],
   "source": [
    "input_runtimes = {}\n",
    "runtime_types = ['with fit and interp', 'without fit with interp', 'with fit without interp', 'without fit and interp']\n",
    "num_samples_list = np.round(np.power(1.1, np.arange(50, 122, 1)))\n",
    "num_channels = 1\n",
    "num_references = 1\n",
    "#Number of times to average timing result\n",
    "num_averages = 10\n",
    "for runtime_type in runtime_types:\n",
    "    tmpRuntimes = []\n",
    "    for num_samples in num_samples_list:\n",
    "        clear_output()\n",
    "        print('type : ' + runtime_type + ', num_samples : ' + str(num_samples), flush = True)\n",
    "        time = np.arange(0, num_samples, 1)\n",
    "        references = [{'time' : time, 'signal' : np.sin(2 * np.pi * 1/10 * time)}]\n",
    "        channels = np.arange(0, num_channels, 1)\n",
    "        sig = []\n",
    "        for channel in channels:\n",
    "            sig.append(np.sin(2 * np.pi * 1/10 * time))\n",
    "        sig = np.array(sig).T\n",
    "        signal = {'time' : time, 'signal' : sig}\n",
    "        LIA = SILIA.Amplifier(0, pbar = False)\n",
    "        runtime = 0\n",
    "        for i in range(num_averages):\n",
    "            if runtime_type == 'with fit and interp':\n",
    "                start = timeit.default_timer()\n",
    "                out = LIA.amplify(references, signal, interpolate = True)\n",
    "                end = timeit.default_timer()\n",
    "            elif runtime_type == 'without fit with interp':\n",
    "                start = timeit.default_timer()\n",
    "                out = LIA.amplify(references, signal, fit_ref = False, interpolate = True)\n",
    "                end = timeit.default_timer()\n",
    "            elif runtime_type == 'with fit without interp':\n",
    "                start = timeit.default_timer()\n",
    "                out = LIA.amplify(references, signal, fit_ref = True, interpolate = False)\n",
    "                end = timeit.default_timer()\n",
    "            elif runtime_type == 'without fit and interp':\n",
    "                start = timeit.default_timer()\n",
    "                out = LIA.amplify(references, signal, fit_ref = False, interpolate = False)\n",
    "                end = timeit.default_timer()\n",
    "            runtime += (end-start)\n",
    "        tmpRuntimes.append(runtime/num_averages)\n",
    "    input_runtimes[runtime_type] = tmpRuntimes"
   ]
  },
  {
   "cell_type": "markdown",
   "metadata": {},
   "source": [
    "Saving the result into json"
   ]
  },
  {
   "cell_type": "code",
   "execution_count": null,
   "metadata": {},
   "outputs": [],
   "source": [
    "with open('input_runtimes.json', 'w') as json_file:\n",
    "    json.dump(input_runtimes, json_file)"
   ]
  },
  {
   "cell_type": "markdown",
   "metadata": {},
   "source": [
    "Plotting the result"
   ]
  },
  {
   "cell_type": "code",
   "execution_count": null,
   "metadata": {},
   "outputs": [],
   "source": []
  },
  {
   "cell_type": "markdown",
   "metadata": {},
   "source": [
    "## Runtime vs Channels"
   ]
  },
  {
   "cell_type": "code",
   "execution_count": null,
   "metadata": {},
   "outputs": [],
   "source": [
    "channels_runtimes = {}\n",
    "runtime_types = ['with fit and interp', 'without fit with interp', 'with fit without interp', 'without fit and interp']\n",
    "num_channels_list = np.arange(100, 5001, 100)\n",
    "num_samples = 4096\n",
    "num_references = 1\n",
    "#Number of times to average timing result\n",
    "num_averages = 10\n",
    "for runtime_type in runtime_types:\n",
    "    tmpRuntimes = []\n",
    "    for num_channels in num_channels_list:\n",
    "        clear_output()\n",
    "        print('type : ' + runtime_type + ', num_channels : ' + str(num_channels), flush = True)\n",
    "        time = np.arange(0, num_samples, 1)\n",
    "        references = [{'time' : time, 'signal' : np.sin(2 * np.pi * 1/10 * time)}]\n",
    "        channels = np.arange(0, num_channels, 1)\n",
    "        sig = []\n",
    "        for channel in channels:\n",
    "            sig.append(np.sin(2 * np.pi * 1/10 * time))\n",
    "        sig = np.array(sig).T\n",
    "        signal = {'time' : time, 'signal' : sig}\n",
    "        LIA = SILIA.Amplifier(0, pbar = False)\n",
    "        runtime = 0\n",
    "        for i in range(num_averages):\n",
    "            if runtime_type == 'with fit and interp':\n",
    "                start = timeit.default_timer()\n",
    "                out = LIA.amplify(references, signal, interpolate = True)\n",
    "                end = timeit.default_timer()\n",
    "            elif runtime_type == 'without fit with interp':\n",
    "                start = timeit.default_timer()\n",
    "                out = LIA.amplify(references, signal, fit_ref = False, interpolate = True)\n",
    "                end = timeit.default_timer()\n",
    "            elif runtime_type == 'with fit without interp':\n",
    "                start = timeit.default_timer()\n",
    "                out = LIA.amplify(references, signal, fit_ref = True, interpolate = False)\n",
    "                end = timeit.default_timer()\n",
    "            elif runtime_type == 'without fit and interp':\n",
    "                start = timeit.default_timer()\n",
    "                out = LIA.amplify(references, signal, fit_ref = False, interpolate = False)\n",
    "                end = timeit.default_timer()\n",
    "            runtime += (end-start)\n",
    "        tmpRuntimes.append(runtime/num_averages)\n",
    "    channels_runtimes[runtime_type] = tmpRuntimes"
   ]
  },
  {
   "cell_type": "markdown",
   "metadata": {},
   "source": [
    "Saving the result into json"
   ]
  },
  {
   "cell_type": "code",
   "execution_count": null,
   "metadata": {},
   "outputs": [],
   "source": [
    "with open('channel_runtimes.json', 'w') as json_file:\n",
    "    json.dump(channels_runtimes, json_file)"
   ]
  },
  {
   "cell_type": "markdown",
   "metadata": {},
   "source": [
    "Plotting the result"
   ]
  },
  {
   "cell_type": "code",
   "execution_count": null,
   "metadata": {},
   "outputs": [],
   "source": []
  },
  {
   "cell_type": "markdown",
   "metadata": {},
   "source": [
    "## Runtime vs Number of Frequency References"
   ]
  },
  {
   "cell_type": "code",
   "execution_count": null,
   "metadata": {},
   "outputs": [],
   "source": [
    "ref_runtimes = {}\n",
    "runtime_types = ['with fit and interp', 'without fit with interp', 'with fit without interp', 'without fit and interp']\n",
    "num_channels = 1\n",
    "num_samples = 4096\n",
    "num_references_list = np.arange(1, 11, 1)\n",
    "#Number of times to average timing result\n",
    "num_averages = 10\n",
    "for runtime_type in runtime_types:\n",
    "    tmpRuntimes = []\n",
    "    for num_references in num_references_list:\n",
    "        clear_output()\n",
    "        print('type : ' + runtime_type + ', num_references : ' + str(num_references), flush = True)\n",
    "        time = np.arange(0, num_samples, 1)\n",
    "        references = [{'time' : time, 'signal' : np.sin(2 * np.pi * 1/10 * time)}]\n",
    "        channels = np.arange(0, num_channels, 1)\n",
    "        sig = []\n",
    "        for channel in channels:\n",
    "            sig.append(np.sin(2 * np.pi * 1/10 * time))\n",
    "        sig = np.array(sig).T\n",
    "        signal = {'time' : time, 'signal' : sig}\n",
    "        LIA = SILIA.Amplifier(0, pbar = False)\n",
    "        runtime = 0\n",
    "        for i in range(num_averages):\n",
    "            if runtime_type == 'with fit and interp':\n",
    "                start = timeit.default_timer()\n",
    "                out = LIA.amplify(references, signal, interpolate = True)\n",
    "                end = timeit.default_timer()\n",
    "            elif runtime_type == 'without fit with interp':\n",
    "                start = timeit.default_timer()\n",
    "                out = LIA.amplify(references, signal, fit_ref = False, interpolate = True)\n",
    "                end = timeit.default_timer()\n",
    "            elif runtime_type == 'with fit without interp':\n",
    "                start = timeit.default_timer()\n",
    "                out = LIA.amplify(references, signal, fit_ref = True, interpolate = False)\n",
    "                end = timeit.default_timer()\n",
    "            elif runtime_type == 'without fit and interp':\n",
    "                start = timeit.default_timer()\n",
    "                out = LIA.amplify(references, signal, fit_ref = False, interpolate = False)\n",
    "                end = timeit.default_timer()\n",
    "            runtime += (end-start)\n",
    "        tmpRuntimes.append(runtime/num_averages)\n",
    "    ref_runtimes[runtime_type] = tmpRuntimes"
   ]
  },
  {
   "cell_type": "markdown",
   "metadata": {},
   "source": [
    "Saving the result into json"
   ]
  },
  {
   "cell_type": "code",
   "execution_count": null,
   "metadata": {},
   "outputs": [],
   "source": [
    "with open('references_runtimes.json', 'w') as json_file:\n",
    "    json.dump(ref_runtimes, json_file)"
   ]
  },
  {
   "cell_type": "markdown",
   "metadata": {},
   "source": [
    "Plotting the result"
   ]
  },
  {
   "cell_type": "code",
   "execution_count": null,
   "metadata": {},
   "outputs": [],
   "source": [
    "for run_type in runtime_types:\n",
    "    fig, ax = plt.subplots()\n",
    "    plt.plot(num_references_list, ref_runtimes[run_type])\n",
    "    plt.title(run_type)\n",
    "    plt.show()"
   ]
  }
 ],
 "metadata": {
  "kernelspec": {
   "display_name": "Python 3",
   "language": "python",
   "name": "python3"
  },
  "language_info": {
   "codemirror_mode": {
    "name": "ipython",
    "version": 3
   },
   "file_extension": ".py",
   "mimetype": "text/x-python",
   "name": "python",
   "nbconvert_exporter": "python",
   "pygments_lexer": "ipython3",
   "version": "3.7.3"
  }
 },
 "nbformat": 4,
 "nbformat_minor": 2
}
