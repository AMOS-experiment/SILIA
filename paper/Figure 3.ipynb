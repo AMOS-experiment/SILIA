{
 "cells": [
  {
   "cell_type": "code",
   "execution_count": null,
   "metadata": {},
   "outputs": [],
   "source": [
    "import SILIA\n",
    "import numpy as np\n",
    "import matplotlib.pyplot as plt\n",
    "from matplotlib import cm\n",
    "import scipy.stats as sp\n",
    "from matplotlib.colors import ListedColormap, LinearSegmentedColormap\n",
    "from mpl_toolkits.axes_grid1.inset_locator import zoomed_inset_axes, mark_inset, inset_axes"
   ]
  },
  {
   "cell_type": "markdown",
   "metadata": {},
   "source": [
    "Generating arrays and dictionaries to represent the time axis, channels, and reference inputs in the correct format for SILIA. 100 channels, 5 seconds of signal where each timestep is 0.2 ms. Two reference signals with frequencies of 80 and 120Hz."
   ]
  },
  {
   "cell_type": "code",
   "execution_count": null,
   "metadata": {},
   "outputs": [],
   "source": [
    "time = np.arange(0, 5, 1/5000) #seconds\n",
    "channels = np.arange(0, 100, 1)\n",
    "\n",
    "frequencies = [80, 120] #Hz\n",
    "references = []\n",
    "for freq in frequencies:\n",
    "    references.append({'time' : time, 'signal' : np.sin(2 * np.pi * freq * time)})"
   ]
  },
  {
   "cell_type": "markdown",
   "metadata": {},
   "source": [
    "Generating noisy input signals in the correct format for SILIA. Channels 0-20, 40-60 and 80-100 contain only Gaussian noise with a std of 1. Channels 20-40 contains a sin wave oscillating at 80Hz with an amplitude of 1 as well as the Gaussian noise and channels 60-80 contains a sin wave oscillating at 120Hz with the same amplitude and noise."
   ]
  },
  {
   "cell_type": "code",
   "execution_count": null,
   "metadata": {},
   "outputs": [],
   "source": [
    "def gen_noise(standard_deviation):\n",
    "    \"\"\"\n",
    "    Generates a random sample from a Gaussian distribution with a mean of 0 and \n",
    "    specified standard deviation.\n",
    "    \"\"\"\n",
    "    return np.random.normal(0, standard_deviation)\n",
    "\n",
    "signal = {'time' : time}\n",
    "sig_vals = []\n",
    "for t in time:\n",
    "    row = []\n",
    "    for channel in channels:\n",
    "        if (channel >= 0 and channel < 20) or (channel >= 40 and channel < 60) or (channel >= 80 and channel < 100):\n",
    "            row.append(gen_noise(1))\n",
    "        elif channel >= 20 and channel < 40:\n",
    "            row.append(np.sin(2 * np.pi * frequencies[0] * t) + gen_noise(1))\n",
    "        elif channel >= 60 and channel < 80:\n",
    "            row.append(np.sin(2 * np.pi * frequencies[1] * t) + gen_noise(1))\n",
    "    sig_vals.append(row)\n",
    "\n",
    "signal['signal'] = sig_vals"
   ]
  },
  {
   "cell_type": "markdown",
   "metadata": {},
   "source": [
    "Creating and running the lock-in amplifier with 4 windows that contain a third of the data each. "
   ]
  },
  {
   "cell_type": "code",
   "execution_count": null,
   "metadata": {},
   "outputs": [],
   "source": [
    "LIA = SILIA.Amplifier(0)"
   ]
  },
  {
   "cell_type": "code",
   "execution_count": null,
   "metadata": {
    "scrolled": true
   },
   "outputs": [],
   "source": [
    "out = LIA.amplify(references, signal, num_windows = 4, window_size = 0.33)"
   ]
  },
  {
   "cell_type": "markdown",
   "metadata": {},
   "source": [
    "Plotting input signal using matplotlib"
   ]
  },
  {
   "cell_type": "code",
   "execution_count": null,
   "metadata": {},
   "outputs": [],
   "source": [
    "intensities = signal['signal']\n",
    "time = signal['time']\n",
    "wavelengths = channels\n",
    "viridis = cm.get_cmap('viridis')\n",
    "fig, ax = plt.subplots(1, 1, figsize=(5, 5))\n",
    "fig.set_size_inches([3,3])\n",
    "x = []\n",
    "for t in time:\n",
    "    x += [[t for w in wavelengths]]\n",
    "x = np.array(x)\n",
    "\n",
    "y = []\n",
    "for w in wavelengths:\n",
    "    y += [[w for t in time]]\n",
    "y = np.transpose(y)\n",
    "\n",
    "psm = ax.pcolormesh(y, x ,intensities, cmap=viridis)\n",
    "cbar = fig.colorbar(psm, ax=ax)\n",
    "cbar.ax.tick_params(labelsize=15)\n",
    "\n",
    "ax.set_xlabel(\"Channel\")\n",
    "ax.set_ylabel(\"Time (s)\")\n",
    "cbar.ax.set_ylabel(\"Intensity (arb. units)\", labelpad = 15)\n",
    "ax.set_xlim(0, 100)\n",
    "for item in (ax.get_xticklabels() + ax.get_yticklabels()):\n",
    "    item.set_fontsize(15)\n",
    "for item in ([ax.title, ax.xaxis.label, ax.yaxis.label, cbar.ax.yaxis.label]):\n",
    "    item.set_fontsize(17)\n",
    "axins = inset_axes(ax, width=\"50%\", height=\"60%\", bbox_to_anchor=(0.2, 0.7, .5, .4),\n",
    "               bbox_transform=ax.transAxes, loc=2, borderpad=0)\n",
    "axins.pcolormesh(y, x ,intensities, cmap=viridis)\n",
    "x1, x2, y1, y2 = 20, 40, 4, 4.05 # specify the limits\n",
    "axins.set_xlim(x1, x2) # apply the x-limits\n",
    "axins.set_ylim(y1, y2) # apply the y-limits\n",
    "plt.yticks([],visible=False)\n",
    "plt.xticks([],visible=False)\n",
    "mark_inset(ax, axins, loc1=2, loc2=4, fc=\"none\", ec=\"0\")\n",
    "axins.set_title(\"80Hz\", fontdict = {'fontsize' : 'x-large'})\n",
    "\n",
    "axins2 = inset_axes(ax, width=\"50%\", height=\"60%\", bbox_to_anchor=(0.55, 0.7, .5, .4),\n",
    "               bbox_transform=ax.transAxes, loc=2, borderpad=0)\n",
    "axins2.pcolormesh(y, x ,intensities, cmap=viridis)\n",
    "x1, x2, y1, y2 = 60, 80, 4, 4.05 # specify the limits\n",
    "axins2.set_xlim(x1, x2) # apply the x-limits\n",
    "axins2.set_ylim(y1, y2) # apply the y-limits\n",
    "plt.yticks([],visible=False)\n",
    "plt.xticks([],visible=False)\n",
    "mark_inset(ax, axins2, loc1=1, loc2=3, fc=\"none\", ec=\"0\")\n",
    "axins2.set_title(\"120Hz\", fontdict = {'fontsize' : 'x-large'})\n",
    "plt.savefig('../../Lock_in_Spectrometer_master/Figs/sim_intensity_colormap.png', bbox_inches = 'tight')\n",
    "plt.show()\n",
    "\n",
    "fig, ax = plt.subplots(1, 1, figsize=(5, 5))\n",
    "fig.set_size_inches([3,3])\n",
    "channels = np.arange(0, 100, 1)\n",
    "sig_amps = []\n",
    "noise_amps = []\n",
    "i = 0\n",
    "while i < 100:\n",
    "    if (i<= 20) or (i >= 40 and i<= 60) or (i >= 80):\n",
    "        sig_amps += [0]\n",
    "    elif (i > 20 and i < 40) or (i > 60 and i < 80):\n",
    "        sig_amps += [1/2]\n",
    "    if (i == 20 or i == 40 or i == 60 or i == 80):\n",
    "        noise_amps +=[0]\n",
    "    else:\n",
    "        noise_amps += [1]\n",
    "    i += 1\n",
    "ax.bar(channels, sig_amps, color='r', width = 1, label = \"Signal\")\n",
    "ax.bar(channels, noise_amps,bottom=sig_amps, color='b', width = 1, label = \"Noise\")\n",
    "for item in (ax.get_xticklabels() + ax.get_yticklabels()):\n",
    "    item.set_fontsize(15)\n",
    "for item in ([ax.title, ax.xaxis.label, ax.yaxis.label]):\n",
    "    item.set_fontsize(17)\n",
    "ax.set_xlabel(\"Channel\")\n",
    "ax.set_ylabel(\"Signal:Noise\")\n",
    "plt.legend(bbox_to_anchor = (1, 0.5), loc = \"center left\", fontsize = 'x-large')\n",
    "#plt.savefig('../Lock_in_Spectrometer_master/Figs/sim_signal_to_noise_bar.svg', bbox_inches = 'tight')\n",
    "plt.show()"
   ]
  },
  {
   "cell_type": "markdown",
   "metadata": {},
   "source": [
    "Plotting phase and magnitude results using matplotlib"
   ]
  },
  {
   "cell_type": "code",
   "execution_count": null,
   "metadata": {},
   "outputs": [],
   "source": [
    "averaged = 0\n",
    "formats = ['b-', 'r-', 'k-', 'g-', 'm-', 'y-']\n",
    "fig, ax = plt.subplots(1, 1, figsize=(3,3))\n",
    "fig.set_size_inches([3,3])\n",
    "\n",
    "ax.errorbar(channels ,out['reference 1']['magnitudes'], yerr = out['reference 1']['magnitude stds'], capsize = 3, fmt = 'b-', label = \"80Hz\")\n",
    "ax.errorbar(channels ,out['reference 2']['magnitudes'], yerr = out['reference 2']['magnitude stds'], capsize = 3, fmt = 'r-', label = \"120Hz\")\n",
    "plt.legend(bbox_to_anchor = (1, 0.6), frameon = False, loc = 'center left', title = 'Signal:Noise' + r' $(1:2)$'+'\\n\\nReference Frequency')\n",
    "plt.ylabel(\"Lock-in Magnitude\")\n",
    "plt.xlabel(\"Channel\")\n",
    "\n",
    "for item in (ax.get_xticklabels() + ax.get_yticklabels()):\n",
    "    item.set_fontsize(15)\n",
    "for item in ([ax.title, ax.xaxis.label, ax.yaxis.label]):\n",
    "    item.set_fontsize(17)\n",
    "plt.savefig('../../Lock_in_Spectrometer_master/Figs/two_freq_mag.svg', bbox_inches='tight')\n",
    "plt.show()\n",
    "\n",
    "\n",
    "fig, ax = plt.subplots(1, 1, figsize=(3,3))\n",
    "fig.set_size_inches([3,3])\n",
    "ax.errorbar(channels ,out['reference 1']['phases'], yerr = out['reference 1']['phase stds'], fmt = 'b-', capsize = 3, label = \"80Hz\")\n",
    "ax.set_xlabel(\"Channel\")\n",
    "ax.set_ylabel(\"Phase (rads)\")\n",
    "for item in (ax.get_xticklabels() + ax.get_yticklabels()):\n",
    "    item.set_fontsize(15)\n",
    "for item in ([ax.title, ax.xaxis.label, ax.yaxis.label]):\n",
    "    item.set_fontsize(17)\n",
    "plt.ylim(-7, 7)\n",
    "plt.savefig('../../Lock_in_Spectrometer_master/Figs/two_freq_phase_80.svg', bbox_inches='tight')\n",
    "plt.show()\n",
    "\n",
    "fig, ax = plt.subplots(1, 1, figsize=(3,3))\n",
    "fig.set_size_inches([3,3])\n",
    "ax.errorbar(channels ,out['reference 2']['phases'], yerr = out['reference 2']['phase stds'], capsize = 3, fmt = 'r-', label = \"120Hz\")\n",
    "ax.set_xlabel(\"Channel\")\n",
    "ax.set_ylabel(\"Phase (rads)\")\n",
    "for item in (ax.get_xticklabels() + ax.get_yticklabels()):\n",
    "    item.set_fontsize(15)\n",
    "for item in ([ax.title, ax.xaxis.label, ax.yaxis.label]):\n",
    "    item.set_fontsize(17)\n",
    "plt.ylim(-7, 7)\n",
    "plt.savefig('../../Lock_in_Spectrometer_master/Figs/two_freq_phase_120.svg', bbox_inches='tight')\n",
    "plt.show()"
   ]
  },
  {
   "cell_type": "markdown",
   "metadata": {},
   "source": [
    "Computing summary statistics on the results"
   ]
  },
  {
   "cell_type": "code",
   "execution_count": null,
   "metadata": {},
   "outputs": [],
   "source": [
    "mags1 = out['reference 1']['magnitudes']\n",
    "mags2 = out['reference 2']['magnitudes']\n",
    "mags1_err = out['reference 1']['magnitude stds']\n",
    "mags2_err = out['reference 2']['magnitude stds']\n",
    "phase1 = out['reference 1']['phases']\n",
    "phase2 = out['reference 2']['phases']\n",
    "phase1_err = out['reference 1']['phase stds']\n",
    "phase2_err = out['reference 2']['phase stds']\n",
    "\n",
    "mags1_mean, mags1_var = sp.describe(mags1[20:40])[2:4]\n",
    "mags2_mean, mags2_var = sp.describe(mags2[60:80])[2:4]\n",
    "mags1_std = np.sqrt(mags1_var)\n",
    "mags2_std = np.sqrt(mags2_var)\n",
    "\n",
    "mags1_err = np.mean(mags1_err[20:40])\n",
    "mags2_err = np.mean(mags2_err[60:80])\n",
    "\n",
    "print('mags 80Hz mean: ' + str(mags1_mean))\n",
    "print('mags 120Hz mean: ' + str(mags2_mean))\n",
    "print('mags 80Hz std: ' + str(mags1_std))\n",
    "print('mags 120Hz std: ' + str(mags2_std))\n",
    "print('mags 80Hz predicted err: ' + str(mags1_err))\n",
    "print('mags 120Hz predicted err: ' + str(mags2_err))\n",
    "print('mags 80Hz no signal mean: ' + str(np.mean(mags1[0:20]) * 20/100 + np.mean(mags1[40:100]) * 60/100))\n",
    "print('mags 120Hz no signal mean: ' + str(np.mean(mags2[0:40]) * 40/100 + np.mean(mags1[60:100]) * 40/100))\n",
    "\n",
    "phase1_mean, phase1_var = sp.describe(phase1[20:40])[2:4]\n",
    "phase2_mean, phase2_var = sp.describe(phase2[60:80])[2:4]\n",
    "phase1_std = np.sqrt(phase1_var)\n",
    "phase2_std = np.sqrt(phase2_var)\n",
    "\n",
    "phase1_err = np.mean(phase1_err[20:40])\n",
    "phase2_err = np.mean(phase2_err[60:80])\n",
    "\n",
    "print('phase 80Hz mean: ' + str(phase1_mean))\n",
    "print('phase 120Hz mean: ' + str(phase2_mean))\n",
    "print('phase 80Hz std: ' + str(phase1_std))\n",
    "print('phase 120Hz std: ' + str(phase2_std))\n",
    "print('phase 80Hz predicted err: ' + str(phase1_err))\n",
    "print('phase 120Hz predicted err: ' + str(phase2_err))"
   ]
  },
  {
   "cell_type": "code",
   "execution_count": null,
   "metadata": {},
   "outputs": [],
   "source": []
  }
 ],
 "metadata": {
  "kernelspec": {
   "display_name": "Python 3",
   "language": "python",
   "name": "python3"
  },
  "language_info": {
   "codemirror_mode": {
    "name": "ipython",
    "version": 3
   },
   "file_extension": ".py",
   "mimetype": "text/x-python",
   "name": "python",
   "nbconvert_exporter": "python",
   "pygments_lexer": "ipython3",
   "version": "3.7.3"
  }
 },
 "nbformat": 4,
 "nbformat_minor": 2
}
