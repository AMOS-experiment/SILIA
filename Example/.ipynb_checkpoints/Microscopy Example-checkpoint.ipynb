{
 "cells": [
  {
   "cell_type": "code",
   "execution_count": 1,
   "metadata": {},
   "outputs": [],
   "source": [
    "import SILIA\n",
    "import numpy as np\n",
    "from scipy.signal import square\n",
    "import plotly.express as px #I like using plotly for my graphs, but feel free to use matplotlib or any other library\n",
    "import plotly.graph_objects as go\n",
    "from tqdm import tqdm\n",
    "from matplotlib import animation, rc\n",
    "import matplotlib.pyplot as plt\n",
    "from PIL import Image"
   ]
  },
  {
   "cell_type": "markdown",
   "metadata": {},
   "source": [
    "In this tutorial, we will go over using SILIA for higher dimensional data. Please see the basic tutorial prior to moving on to this one. In this case, we will simulate fluoresence microscopy data where the sample fluoresces at 100Hz and the microscope takes images on a 100x100 pixel array. The fluoresence is concentrated in a few randomly placed circles with a peak of 2 while the background has a peak of 0.2. \n",
    "\n",
    "First, let us create our time axis and note down our frequency"
   ]
  },
  {
   "cell_type": "code",
   "execution_count": 2,
   "metadata": {},
   "outputs": [],
   "source": [
    "#Time axis\n",
    "time = np.arange(0, 1, 1/5000)\n",
    "#Frequency (Hz)\n",
    "freq = 100\n",
    "#Number of rows in each frame\n",
    "rows = 100\n",
    "#Number of columns in each frame\n",
    "cols = 100"
   ]
  },
  {
   "cell_type": "markdown",
   "metadata": {},
   "source": [
    "Next, let's simulate our 100Hz reference signal"
   ]
  },
  {
   "cell_type": "code",
   "execution_count": 3,
   "metadata": {},
   "outputs": [],
   "source": [
    "references = [{'time' : time, 'signal' : square(2 * np.pi * freq * time)}]"
   ]
  },
  {
   "cell_type": "markdown",
   "metadata": {},
   "source": [
    "Now, let's generate our data. Our signal is represented by a dictionary which contains the time axis under the key, 'time'. The actual signal data is under the key 'signal' and is a 3D array in this case. The first index of this array represents the time axis, i.e. signal['signal'][i] would refer to the image frame at the i'th timestep. The next two indices represent the coordinates of an individual pixel. i.e. signal['signal'][:, x, y] is a 1D array which represents the signal value over time for a single pixel. "
   ]
  },
  {
   "cell_type": "code",
   "execution_count": 4,
   "metadata": {},
   "outputs": [
    {
     "name": "stderr",
     "output_type": "stream",
     "text": [
      "100%|████████████████████████████████████████████████████████████████████████████████| 100/100 [00:08<00:00, 12.20it/s]\n"
     ]
    }
   ],
   "source": [
    "def inside(centers, radii, point):\n",
    "    \"\"\"\n",
    "    Returns whether or not the point, given by a list [x, y], \n",
    "    is inside one of the circles with center given by centers[i]\n",
    "    and radius given by radii[i] for some index, i. \n",
    "    \"\"\"\n",
    "    for i, center in enumerate(centers):\n",
    "        dist_from_center = np.sqrt((point[0] - center[0])**2 + (point[1] - center[1])**2)\n",
    "        if dist_from_center < radii[i]:\n",
    "            return True\n",
    "    return False\n",
    "#Adding the time axis to our data\n",
    "dat = {'time' : time}\n",
    "\n",
    "#Creating an empty pixel array for each timestamp\n",
    "sig= np.zeros((len(time), rows,cols))\n",
    "\n",
    "#Defining the location and sizes of each circle. \n",
    "centers = np.random.randint(100, size = (20, 2))\n",
    "radii = np.random.normal(5, 1, 20)\n",
    "\n",
    "#Populating the empty signal array\n",
    "for x in tqdm(range(rows), position = 0, leave = True):\n",
    "    for y in range(cols):      \n",
    "        if inside(centers, radii, [x, y]):\n",
    "            sig[:, x, y] = square(2 * np.pi * 100 * time) + 1\n",
    "        else:\n",
    "            sig[:, x, y] = 0.1 * square(2 * np.pi * 100 * time) + 0.1\n",
    "dat['signal'] = sig"
   ]
  },
  {
   "cell_type": "markdown",
   "metadata": {},
   "source": [
    "Now, let's visualize a slowed down version of our generated signal, this might take a couple minutes."
   ]
  },
  {
   "cell_type": "code",
   "execution_count": 7,
   "metadata": {},
   "outputs": [
    {
     "data": {
      "image/png": "[encoded data removed]",
      "text/plain": [
       "<Figure size 432x288 with 1 Axes>"
      ]
     },
     "metadata": {
      "needs_background": "light"
     },
     "output_type": "display_data"
    }
   ],
   "source": [
    "%matplotlib inline\n",
    "\n",
    "#Scale to slow down animation by\n",
    "slow_down = 25\n",
    "# First set up the figure, the axis, and the plot element we want to animate\n",
    "fig, ax = plt.subplots()\n",
    "\n",
    "ax.set_xlim(( 0, rows))\n",
    "ax.set_ylim((0, cols))\n",
    "img = Image.fromarray(np.zeros((rows, cols)))\n",
    "im = ax.imshow(img)\n",
    "\n",
    "# initialization function: plot the background of each frame\n",
    "def init():\n",
    "    img = Image.fromarray(np.zeros((rows, cols)))\n",
    "    im.set_data(img)\n",
    "    return (im,)\n",
    "\n",
    "# animation function. This is called sequentially\n",
    "def animate(i):\n",
    "    tmpImg = Image.fromarray(dat['signal'][i, :, :])\n",
    "    im.set_data(tmpImg)\n",
    "    return (im,)\n",
    "# call the animator.\n",
    "anim = animation.FuncAnimation(fig, animate, init_func=init,\n",
    "                               frames=150, interval=0.2 * slow_down, blit = True)"
   ]
  },
  {
   "cell_type": "markdown",
   "metadata": {},
   "source": [
    " If it doesn't work, try replacing 'jshtml' on the line below with 'html5'"
   ]
  },
  {
   "cell_type": "code",
   "execution_count": null,
   "metadata": {},
   "outputs": [],
   "source": [
    "rc('animation', html='jshtml') #Maybe replace 'jshtml' with 'html5'\n",
    "anim"
   ]
  },
  {
   "cell_type": "code",
   "execution_count": null,
   "metadata": {},
   "outputs": [],
   "source": [
    "Now, let's run our lock-in on the input"
   ]
  }
 ],
 "metadata": {
  "kernelspec": {
   "display_name": "Python 3",
   "language": "python",
   "name": "python3"
  },
  "language_info": {
   "codemirror_mode": {
    "name": "ipython",
    "version": 3
   },
   "file_extension": ".py",
   "mimetype": "text/x-python",
   "name": "python",
   "nbconvert_exporter": "python",
   "pygments_lexer": "ipython3",
   "version": "3.7.3"
  }
 },
 "nbformat": 4,
 "nbformat_minor": 2
}
